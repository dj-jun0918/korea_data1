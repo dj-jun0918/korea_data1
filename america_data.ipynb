{
 "cells": [
  {
   "cell_type": "code",
   "execution_count": 3,
   "metadata": {},
   "outputs": [
    {
     "name": "stdout",
     "output_type": "stream",
     "text": [
      "Collecting yfinance\n",
      "  Downloading yfinance-0.2.50-py2.py3-none-any.whl.metadata (5.5 kB)\n",
      "Requirement already satisfied: pandas>=1.3.0 in c:\\users\\ddongjun\\appdata\\local\\programs\\python\\python313\\lib\\site-packages (from yfinance) (2.2.3)\n",
      "Requirement already satisfied: numpy>=1.16.5 in c:\\users\\ddongjun\\appdata\\local\\programs\\python\\python313\\lib\\site-packages (from yfinance) (2.1.3)\n",
      "Requirement already satisfied: requests>=2.31 in c:\\users\\ddongjun\\appdata\\local\\programs\\python\\python313\\lib\\site-packages (from yfinance) (2.32.3)\n",
      "Collecting multitasking>=0.0.7 (from yfinance)\n",
      "  Downloading multitasking-0.0.11-py3-none-any.whl.metadata (5.5 kB)\n",
      "Requirement already satisfied: lxml>=4.9.1 in c:\\users\\ddongjun\\appdata\\local\\programs\\python\\python313\\lib\\site-packages (from yfinance) (5.3.0)\n",
      "Requirement already satisfied: platformdirs>=2.0.0 in c:\\users\\ddongjun\\appdata\\roaming\\python\\python313\\site-packages (from yfinance) (4.3.6)\n",
      "Requirement already satisfied: pytz>=2022.5 in c:\\users\\ddongjun\\appdata\\local\\programs\\python\\python313\\lib\\site-packages (from yfinance) (2024.2)\n",
      "Collecting frozendict>=2.3.4 (from yfinance)\n",
      "  Downloading frozendict-2.4.6-py313-none-any.whl.metadata (23 kB)\n",
      "Collecting peewee>=3.16.2 (from yfinance)\n",
      "  Downloading peewee-3.17.8.tar.gz (948 kB)\n",
      "     ---------------------------------------- 0.0/948.2 kB ? eta -:--:--\n",
      "     ------------------------------------- 948.2/948.2 kB 30.5 MB/s eta 0:00:00\n",
      "  Installing build dependencies: started\n",
      "  Installing build dependencies: finished with status 'done'\n",
      "  Getting requirements to build wheel: started\n",
      "  Getting requirements to build wheel: finished with status 'done'\n",
      "  Preparing metadata (pyproject.toml): started\n",
      "  Preparing metadata (pyproject.toml): finished with status 'done'\n",
      "Requirement already satisfied: beautifulsoup4>=4.11.1 in c:\\users\\ddongjun\\appdata\\local\\programs\\python\\python313\\lib\\site-packages (from yfinance) (4.12.3)\n",
      "Collecting html5lib>=1.1 (from yfinance)\n",
      "  Downloading html5lib-1.1-py2.py3-none-any.whl.metadata (16 kB)\n",
      "Requirement already satisfied: soupsieve>1.2 in c:\\users\\ddongjun\\appdata\\local\\programs\\python\\python313\\lib\\site-packages (from beautifulsoup4>=4.11.1->yfinance) (2.6)\n",
      "Requirement already satisfied: six>=1.9 in c:\\users\\ddongjun\\appdata\\roaming\\python\\python313\\site-packages (from html5lib>=1.1->yfinance) (1.16.0)\n",
      "Collecting webencodings (from html5lib>=1.1->yfinance)\n",
      "  Downloading webencodings-0.5.1-py2.py3-none-any.whl.metadata (2.1 kB)\n",
      "Requirement already satisfied: python-dateutil>=2.8.2 in c:\\users\\ddongjun\\appdata\\roaming\\python\\python313\\site-packages (from pandas>=1.3.0->yfinance) (2.9.0.post0)\n",
      "Requirement already satisfied: tzdata>=2022.7 in c:\\users\\ddongjun\\appdata\\local\\programs\\python\\python313\\lib\\site-packages (from pandas>=1.3.0->yfinance) (2024.2)\n",
      "Requirement already satisfied: charset-normalizer<4,>=2 in c:\\users\\ddongjun\\appdata\\local\\programs\\python\\python313\\lib\\site-packages (from requests>=2.31->yfinance) (3.4.0)\n",
      "Requirement already satisfied: idna<4,>=2.5 in c:\\users\\ddongjun\\appdata\\local\\programs\\python\\python313\\lib\\site-packages (from requests>=2.31->yfinance) (3.10)\n",
      "Requirement already satisfied: urllib3<3,>=1.21.1 in c:\\users\\ddongjun\\appdata\\local\\programs\\python\\python313\\lib\\site-packages (from requests>=2.31->yfinance) (2.2.3)\n",
      "Requirement already satisfied: certifi>=2017.4.17 in c:\\users\\ddongjun\\appdata\\local\\programs\\python\\python313\\lib\\site-packages (from requests>=2.31->yfinance) (2024.8.30)\n",
      "Downloading yfinance-0.2.50-py2.py3-none-any.whl (102 kB)\n",
      "Downloading frozendict-2.4.6-py313-none-any.whl (16 kB)\n",
      "Downloading html5lib-1.1-py2.py3-none-any.whl (112 kB)\n",
      "Downloading multitasking-0.0.11-py3-none-any.whl (8.5 kB)\n",
      "Downloading webencodings-0.5.1-py2.py3-none-any.whl (11 kB)\n",
      "Building wheels for collected packages: peewee\n",
      "  Building wheel for peewee (pyproject.toml): started\n",
      "  Building wheel for peewee (pyproject.toml): finished with status 'done'\n",
      "  Created wheel for peewee: filename=peewee-3.17.8-py3-none-any.whl size=139012 sha256=eb166bb81044a934c9b932fe3f2fb9e356d814c1c6fda1ecc0856b18f2e45de4\n",
      "  Stored in directory: c:\\users\\ddongjun\\appdata\\local\\pip\\cache\\wheels\\b2\\69\\9e\\5485afcc187c66def1fab96de510fa77da574ec5343f3a5f89\n",
      "Successfully built peewee\n",
      "Installing collected packages: webencodings, peewee, multitasking, html5lib, frozendict, yfinance\n",
      "Successfully installed frozendict-2.4.6 html5lib-1.1 multitasking-0.0.11 peewee-3.17.8 webencodings-0.5.1 yfinance-0.2.50\n",
      "Note: you may need to restart the kernel to use updated packages.\n"
     ]
    }
   ],
   "source": [
    "pip install yfinance"
   ]
  },
  {
   "cell_type": "code",
   "execution_count": 21,
   "metadata": {},
   "outputs": [
    {
     "name": "stderr",
     "output_type": "stream",
     "text": [
      "[*********************100%***********************]  1 of 1 completed\n",
      "[*********************100%***********************]  1 of 1 completed\n",
      "[*********************100%***********************]  1 of 1 completed"
     ]
    },
    {
     "name": "stdout",
     "output_type": "stream",
     "text": [
      "                  NVDA                TSLA                 AMD\n",
      "0                 NVDA                TSLA                 AMD\n",
      "2   124.30000305175781  209.86000061035156  157.69000244140625\n",
      "3   122.66999816894531  231.25999450683594  164.30999755859375\n",
      "4   128.27999877929688  246.38999938964844  163.89999389648438\n",
      "5   125.83000183105469  251.52000427246094  171.89999389648438\n",
      "6    128.1999969482422  252.94000244140625  178.69000244140625\n",
      "7    131.3800048828125   262.3299865722656  177.10000610351562\n",
      "8   134.91000366210938    263.260009765625   183.9600067138672\n",
      "9    127.4000015258789  241.02999877929688  181.94000244140625\n",
      "10  129.24000549316406  248.22999572753906  181.61000061035156\n",
      "11  128.44000244140625  252.63999938964844   179.8300018310547\n",
      "12  126.36000061035156  256.55999755859375   177.5500030517578\n",
      "13  117.98999786376953               248.5  159.42999267578125\n",
      "14  121.08999633789062  249.22999572753906  155.77000427246094\n",
      "15  117.93000030517578   239.1999969482422   151.5800018310547\n",
      "16  123.54000091552734  251.50999450683594   155.8699951171875\n",
      "17  122.58999633789062   246.3800048828125               154.0\n",
      "18              114.25  215.99000549316406   144.6300048828125\n",
      "19  112.27999877929688              220.25  138.32000732421875\n",
      "20  113.05999755859375   219.8000030517578  139.99000549316406\n",
      "21  111.58999633789062  232.10000610351562              139.75\n",
      "22   103.7300033569336   222.6199951171875  138.44000244140625\n",
      "23   117.0199966430664  232.07000732421875  144.47999572753906\n",
      "24  109.20999908447266  216.86000061035156   132.5399932861328\n",
      "25   107.2699966430664   207.6699981689453               132.5\n",
      "26  100.44999694824219   198.8800048828125  134.82000732421875\n",
      "27              104.25  200.63999938964844  130.17999267578125\n",
      "28   98.91000366210938  191.75999450683594   128.6699981689453\n",
      "29  104.97000122070312  198.83999633789062  136.32000732421875\n",
      "30              104.75               200.0  134.27000427246094\n",
      "31   109.0199966430664  197.49000549316406  136.77000427246094\n",
      "32  116.13999938964844   207.8300018310547   141.1300048828125\n",
      "33  118.08000183105469   201.3800048828125              140.75\n",
      "34  122.86000061035156  214.13999938964844  147.36000061035156\n",
      "35  124.58000183105469   216.1199951171875  148.55999755859375\n",
      "36               130.0  222.72000122070312  155.27999877929688\n",
      "37              127.25  221.10000610351562  156.39999389648438\n",
      "38               128.5  223.27000427246094  157.80999755859375\n",
      "39  123.73999786376953  210.66000366210938   151.6999969482422\n",
      "40   129.3699951171875  220.32000732421875  154.97999572753906\n",
      "41  126.45999908447266   213.2100067138672  149.99000549316406\n",
      "42   128.3000030517578   209.2100067138672               150.5\n",
      "43  125.61000061035156              205.75  146.36000061035156\n",
      "44  117.58999633789062  206.27999877929688  145.49000549316406\n",
      "45  119.37000274658203  214.11000061035156  148.55999755859375\n"
     ]
    },
    {
     "name": "stderr",
     "output_type": "stream",
     "text": [
      "\n"
     ]
    }
   ],
   "source": [
    "import yfinance as yf\n",
    "import pandas as pd\n",
    "companies = ['NVDA','TSLA','AMD'] # 조사할 회사 리스트\n",
    "data = {} # 데이터 저장할 딕셔너리\n",
    "\n",
    "for company in companies:\n",
    "    stock_data = yf.download(company, start=\"2024-07-01\", end=\"2024-08-31\")\n",
    "\n",
    "    if not stock_data.empty and \"Close\" in stock_data: # 데이터가 비어있지 않고 'Close' 컬럼이 존재할 경우에만 저장\n",
    "        stock_data.to_csv(f'{company}_stock_data.csv')  # CSV로 저장\n",
    "        data[company] = stock_data[\"Close\"]\n",
    "    else:\n",
    "        print(f\"{company}에 Close 데이터가 없습니다.\")\n",
    "    \n",
    "df = pd.DataFrame()\n",
    "\n",
    "for company in companies:\n",
    "    try:\n",
    "        # CSV 파일을 읽어 DataFrame에 합치기\n",
    "        company_data = pd.read_csv(f'{company}_stock_data.csv', parse_dates=True)\n",
    "        df[company] = company_data[\"Close\"]\n",
    "    except FileNotFoundError:\n",
    "        print(f\"{company}의 CSV 파일이 존재하지 않습니다.\")\n",
    "\n",
    "if not df.empty:\n",
    "\n",
    "    print(df.dropna())"
   ]
  }
 ],
 "metadata": {
  "kernelspec": {
   "display_name": "Python 3",
   "language": "python",
   "name": "python3"
  },
  "language_info": {
   "codemirror_mode": {
    "name": "ipython",
    "version": 3
   },
   "file_extension": ".py",
   "mimetype": "text/x-python",
   "name": "python",
   "nbconvert_exporter": "python",
   "pygments_lexer": "ipython3",
   "version": "3.13.0"
  }
 },
 "nbformat": 4,
 "nbformat_minor": 2
}
